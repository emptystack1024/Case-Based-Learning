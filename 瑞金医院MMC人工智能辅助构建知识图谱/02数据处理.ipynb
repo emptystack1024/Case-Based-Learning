{
 "cells": [
  {
   "cell_type": "markdown",
   "metadata": {},
   "source": [
    "## 如果要安装spacy可能有报错\n",
    "\n",
    "安装提示安装Microsoft C++ 生成工具即可 [网址链接](https://visualstudio.microsoft.com/zh-hans/visual-cpp-build-tools/)\n",
    "\n",
    "切记使用python3.6版本"
   ]
  },
  {
   "cell_type": "markdown",
   "metadata": {},
   "source": [
    "https://tianchi.aliyun.com/specials/promotion/bookcode?spm=a2c22.29554855.J_3941670930.18.5b3c12b6LmutS0"
   ]
  },
  {
   "cell_type": "code",
   "execution_count": 30,
   "metadata": {},
   "outputs": [],
   "source": [
    "# !pip install spacy -i https://pypi.tuna.tsinghua.edu.cn/simple\n",
    "# !pip install gensim -i https://pypi.tuna.tsinghua.edu.cn/simple\n",
    "# !pip install scikit-learn==0.24.1 -i https://pypi.tuna.tsinghua.edu.cn/simple\n",
    "# !pip install tensorflow==1.12.3 -i https://pypi.tuna.tsinghua.edu.cn/simple\n",
    "# !pip install keras==2.2.4 -i https://pypi.tuna.tsinghua.edu.cn/simple\n",
    "# !pip install cnradical==0.1.0 -i https://pypi.tuna.tsinghua.edu.cn/simple\n",
    "# !pip install jieba==0.42.1 -i https://pypi.tuna.tsinghua.edu.cn/simple\n",
    "# !pip install numpy==1.16.0 -i https://pypi.tuna.tsinghua.edu.cn/simple\n",
    "# !pip install pandas==0.25.3 -i https://pypi.tuna.tsinghua.edu.cn/simple\n",
    "# !pip install tqdm==4.39.0 -i https://pypi.tuna.tsinghua.edu.cn/simple\n",
    "# !pip install keras-self-attention==0.49.0 -i https://pypi.tuna.tsinghua.edu.cn/simple"
   ]
  },
  {
   "cell_type": "markdown",
   "metadata": {},
   "source": [
    "下载并解压缩两个压缩包"
   ]
  },
  {
   "cell_type": "code",
   "execution_count": 31,
   "metadata": {},
   "outputs": [],
   "source": [
    "# 导入所需文件\n",
    "import numpy as np\n",
    "from sklearn.model_selection import ShuffleSplit\n",
    "from data_utils import ENTITIES, Documents, Dataset, SentenceExtractor, make_predictions\n",
    "from data_utils import Evaluator\n",
    "from gensim.models import Word2Vec"
   ]
  },
  {
   "cell_type": "code",
   "execution_count": 32,
   "metadata": {},
   "outputs": [],
   "source": [
    "# 数据文件读取\n",
    "data_dir = \"./data/train\"\n",
    "ent2idx = dict(zip(ENTITIES, range(1, len(ENTITIES) + 1)))\n",
    "idx2ent = dict([(v, k) for k, v in ent2idx.items()])"
   ]
  },
  {
   "cell_type": "code",
   "execution_count": 33,
   "metadata": {},
   "outputs": [],
   "source": [
    "# 训练集，测试集切分与打乱\n",
    "docs = Documents(data_dir=data_dir)\n",
    "rs = ShuffleSplit(n_splits=1, test_size=20, random_state=2018)\n",
    "train_doc_ids, test_doc_ids = next(rs.split(docs))\n",
    "train_docs, test_docs = docs[train_doc_ids], docs[test_doc_ids]"
   ]
  },
  {
   "cell_type": "code",
   "execution_count": 34,
   "metadata": {},
   "outputs": [],
   "source": [
    "# 模型参数赋值\n",
    "num_cates = max(ent2idx.values()) + 1\n",
    "sent_len = 64\n",
    "vocab_size = 3000\n",
    "emb_size = 100\n",
    "sent_pad = 10\n",
    "sent_extrator = SentenceExtractor(window_size=sent_len, pad_size=sent_pad)\n",
    "train_sents = sent_extrator(train_docs)\n",
    "test_sents = sent_extrator(test_docs)\n",
    "\n",
    "train_data = Dataset(train_sents, cate2idx=ent2idx)\n",
    "train_data.build_vocab_dict(vocab_size=vocab_size)\n",
    "\n",
    "test_data = Dataset(test_sents, word2idx=train_data.word2idx, cate2idx=ent2idx)\n",
    "vocab_size = len(train_data.word2idx)"
   ]
  },
  {
   "cell_type": "code",
   "execution_count": 35,
   "metadata": {},
   "outputs": [],
   "source": [
    "# train_docs[0]"
   ]
  },
  {
   "cell_type": "code",
   "execution_count": null,
   "metadata": {},
   "outputs": [
    {
     "ename": "NameError",
     "evalue": "name 'build_crf_model' is not defined",
     "output_type": "error",
     "traceback": [
      "\u001b[1;31m---------------------------------------------------------------------------\u001b[0m",
      "\u001b[1;31mNameError\u001b[0m                                 Traceback (most recent call last)",
      "\u001b[1;32m<ipython-input-37-2ba09b8a5386>\u001b[0m in \u001b[0;36m<module>\u001b[1;34m\u001b[0m\n\u001b[0;32m      3\u001b[0m \u001b[1;31m# 假设 sentences 是预处理后的文本数据\u001b[0m\u001b[1;33m\u001b[0m\u001b[1;33m\u001b[0m\u001b[1;33m\u001b[0m\u001b[0m\n\u001b[0;32m      4\u001b[0m \u001b[1;33m\u001b[0m\u001b[0m\n\u001b[1;32m----> 5\u001b[1;33m \u001b[0mmodel\u001b[0m \u001b[1;33m=\u001b[0m \u001b[0mbuild_crf_model\u001b[0m\u001b[1;33m(\u001b[0m\u001b[0mnum_cates\u001b[0m\u001b[1;33m,\u001b[0m \u001b[0mseq_len\u001b[0m\u001b[1;33m=\u001b[0m\u001b[0mseq_len\u001b[0m\u001b[1;33m,\u001b[0m \u001b[0mvocab_size\u001b[0m\u001b[1;33m=\u001b[0m\u001b[0mvocab_size\u001b[0m\u001b[1;33m,\u001b[0m\u001b[0mmodel_opts\u001b[0m\u001b[1;33m=\u001b[0m\u001b[1;33m{\u001b[0m\u001b[1;34m'emb_matrix'\u001b[0m\u001b[1;33m:\u001b[0m \u001b[0mw2v_embeddings\u001b[0m\u001b[1;33m,\u001b[0m \u001b[1;34m'emb_size'\u001b[0m\u001b[1;33m:\u001b[0m \u001b[1;36m100\u001b[0m\u001b[1;33m,\u001b[0m \u001b[1;34m'emb_trainable'\u001b[0m\u001b[1;33m:\u001b[0m \u001b[1;32mFalse\u001b[0m\u001b[1;33m}\u001b[0m\u001b[1;33m)\u001b[0m\u001b[1;33m\u001b[0m\u001b[1;33m\u001b[0m\u001b[0m\n\u001b[0m\u001b[0;32m      6\u001b[0m \u001b[0mw2v_embeddings\u001b[0m \u001b[1;33m=\u001b[0m \u001b[0mmodel\u001b[0m\u001b[1;33m.\u001b[0m\u001b[0mwv\u001b[0m  \u001b[1;31m# 确保这行代码已执行\u001b[0m\u001b[1;33m\u001b[0m\u001b[1;33m\u001b[0m\u001b[0m\n\u001b[0;32m      7\u001b[0m \u001b[0mw2v_embeddings\u001b[0m\u001b[1;33m[\u001b[0m\u001b[1;36m1\u001b[0m\u001b[1;33m]\u001b[0m\u001b[1;33m\u001b[0m\u001b[1;33m\u001b[0m\u001b[0m\n",
      "\u001b[1;31mNameError\u001b[0m: name 'build_crf_model' is not defined"
     ]
    }
   ],
   "source": [
    "# 词嵌入输出\n",
    "\n",
    "# 03最后才可以运行\n",
    "# w2v_embeddings[1]"
   ]
  },
  {
   "cell_type": "markdown",
   "metadata": {},
   "source": []
  },
  {
   "cell_type": "code",
   "execution_count": null,
   "metadata": {},
   "outputs": [],
   "source": []
  }
 ],
 "metadata": {
  "kernelspec": {
   "display_name": "Aliyun",
   "language": "python",
   "name": "python3"
  },
  "language_info": {
   "codemirror_mode": {
    "name": "ipython",
    "version": 3
   },
   "file_extension": ".py",
   "mimetype": "text/x-python",
   "name": "python",
   "nbconvert_exporter": "python",
   "pygments_lexer": "ipython3",
   "version": "3.6.13"
  }
 },
 "nbformat": 4,
 "nbformat_minor": 2
}
