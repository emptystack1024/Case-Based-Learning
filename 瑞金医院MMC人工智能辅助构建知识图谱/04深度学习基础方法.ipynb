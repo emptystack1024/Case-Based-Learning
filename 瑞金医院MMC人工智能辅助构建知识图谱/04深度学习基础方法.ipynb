{
 "cells": [
  {
   "cell_type": "code",
   "execution_count": 13,
   "metadata": {},
   "outputs": [],
   "source": [
    "# 导入所需文件\n",
    "import numpy as np\n",
    "from sklearn.model_selection import ShuffleSplit\n",
    "from data_utils import ENTITIES, Documents, Dataset, SentenceExtractor, make_predictions\n",
    "from data_utils import Evaluator\n",
    "from gensim.models import Word2Vec"
   ]
  },
  {
   "cell_type": "code",
   "execution_count": 14,
   "metadata": {},
   "outputs": [],
   "source": [
    "# 数据文件读取\n",
    "data_dir = \"./data/train\"\n",
    "ent2idx = dict(zip(ENTITIES, range(1, len(ENTITIES) + 1)))\n",
    "idx2ent = dict([(v, k) for k, v in ent2idx.items()])"
   ]
  },
  {
   "cell_type": "code",
   "execution_count": 15,
   "metadata": {},
   "outputs": [],
   "source": [
    "# 训练集，测试集切分与打乱\n",
    "docs = Documents(data_dir=data_dir)\n",
    "rs = ShuffleSplit(n_splits=1, test_size=20, random_state=2018)\n",
    "train_doc_ids, test_doc_ids = next(rs.split(docs))\n",
    "train_docs, test_docs = docs[train_doc_ids], docs[test_doc_ids]"
   ]
  },
  {
   "cell_type": "code",
   "execution_count": 16,
   "metadata": {},
   "outputs": [],
   "source": [
    "# 模型参数赋值\n",
    "num_cates = max(ent2idx.values()) + 1\n",
    "sent_len = 64\n",
    "vocab_size = 3000\n",
    "emb_size = 100\n",
    "sent_pad = 10\n",
    "sent_extrator = SentenceExtractor(window_size=sent_len, pad_size=sent_pad)\n",
    "train_sents = sent_extrator(train_docs)\n",
    "test_sents = sent_extrator(test_docs)\n",
    "\n",
    "train_data = Dataset(train_sents, cate2idx=ent2idx)\n",
    "train_data.build_vocab_dict(vocab_size=vocab_size)\n",
    "\n",
    "test_data = Dataset(test_sents, word2idx=train_data.word2idx, cate2idx=ent2idx)\n",
    "vocab_size = len(train_data.word2idx)"
   ]
  },
  {
   "cell_type": "code",
   "execution_count": 17,
   "metadata": {},
   "outputs": [],
   "source": [
    "# 构建词嵌入模型\n",
    "w2v_train_sents = []\n",
    "for doc in docs:\n",
    "    w2v_train_sents.append(list(doc.text))\n",
    "w2v_model = Word2Vec(w2v_train_sents, vector_size=emb_size)\n",
    "\n",
    "w2v_embeddings = np.zeros((vocab_size, emb_size))\n",
    "for char, char_idx in train_data.word2idx.items():\n",
    "    if char in w2v_model.wv:\n",
    "        w2v_embeddings[char_idx] = w2v_model.wv[char]"
   ]
  },
  {
   "cell_type": "code",
   "execution_count": 18,
   "metadata": {},
   "outputs": [
    {
     "name": "stderr",
     "output_type": "stream",
     "text": [
      "Using TensorFlow backend.\n"
     ]
    }
   ],
   "source": [
    "# 构建RNN模型加crf模型\n",
    "import keras\n",
    "from keras.layers import Input, SimpleRNN, Embedding, Bidirectional\n",
    "from keras_contrib.layers import CRF\n",
    "from keras.models import Model\n",
    "\n",
    "\n",
    "\n",
    "def build_rnn_model(num_cates, seq_len, vocab_size, model_opts=dict()):\n",
    "    opts = {\n",
    "        'emb_size': 256,\n",
    "        'emb_trainable': True,\n",
    "        'emb_matrix': None,\n",
    "        'rnn_units': 256,\n",
    "        'optimizer': keras.optimizers.Adam()\n",
    "    }\n",
    "    opts.update(model_opts)\n",
    "\n",
    "    input_seq = Input(shape=(seq_len,), dtype='int32')\n",
    "    if opts.get('emb_matrix') is not None:\n",
    "        embedding = Embedding(vocab_size, opts['emb_size'], \n",
    "                              weights=[opts['emb_matrix']],\n",
    "                              trainable=opts['emb_trainable'])\n",
    "    else:\n",
    "        embedding = Embedding(vocab_size, opts['emb_size'])\n",
    "    x = embedding(input_seq)\n",
    "    rnn = SimpleRNN(opts['rnn_units'], return_sequences=True)\n",
    "    x = rnn(x)\n",
    "    crf = CRF(num_cates, sparse_target=True)\n",
    "    output = crf(x)\n",
    "\n",
    "    model = Model(input_seq, output)\n",
    "    model.compile(opts['optimizer'], loss=crf.loss_function, metrics=[crf.accuracy])\n",
    "    return model"
   ]
  },
  {
   "cell_type": "code",
   "execution_count": 19,
   "metadata": {},
   "outputs": [
    {
     "name": "stderr",
     "output_type": "stream",
     "text": [
      "c:\\Users\\33398\\.conda\\envs\\Aliyun\\lib\\site-packages\\keras_contrib\\layers\\crf.py:346: UserWarning: CRF.loss_function is deprecated and it might be removed in the future. Please use losses.crf_loss instead.\n",
      "  warnings.warn('CRF.loss_function is deprecated '\n",
      "c:\\Users\\33398\\.conda\\envs\\Aliyun\\lib\\site-packages\\keras_contrib\\layers\\crf.py:353: UserWarning: CRF.accuracy is deprecated and it might be removed in the future. Please use metrics.crf_accuracy\n",
      "  warnings.warn('CRF.accuracy is deprecated and it '\n"
     ]
    },
    {
     "name": "stdout",
     "output_type": "stream",
     "text": [
      "_________________________________________________________________\n",
      "Layer (type)                 Output Shape              Param #   \n",
      "=================================================================\n",
      "input_1 (InputLayer)         (None, 84)                0         \n",
      "_________________________________________________________________\n",
      "embedding_1 (Embedding)      (None, 84, 100)           215400    \n",
      "_________________________________________________________________\n",
      "simple_rnn_1 (SimpleRNN)     (None, 84, 256)           91392     \n",
      "_________________________________________________________________\n",
      "crf_1 (CRF)                  (None, 84, 16)            4400      \n",
      "=================================================================\n",
      "Total params: 311,192\n",
      "Trainable params: 95,792\n",
      "Non-trainable params: 215,400\n",
      "_________________________________________________________________\n"
     ]
    }
   ],
   "source": [
    "# 循环神经网络+CRF条件随机场实例化\n",
    "seq_len = sent_len + 2 * sent_pad\n",
    "model = build_rnn_model(num_cates, seq_len=seq_len, vocab_size=vocab_size,model_opts={'emb_matrix': w2v_embeddings, 'emb_size': 100, 'emb_trainable': False})\n",
    "model.summary()"
   ]
  },
  {
   "cell_type": "code",
   "execution_count": 20,
   "metadata": {},
   "outputs": [
    {
     "name": "stdout",
     "output_type": "stream",
     "text": [
      "train_X.shape (2622, 84)\n",
      "train_y.shape (2622, 84, 1)\n"
     ]
    }
   ],
   "source": [
    "# 训练集，测试集形状\n",
    "train_X, train_y = train_data[:]\n",
    "print('train_X.shape', train_X.shape)\n",
    "print('train_y.shape', train_y.shape)"
   ]
  },
  {
   "cell_type": "code",
   "execution_count": 21,
   "metadata": {},
   "outputs": [
    {
     "name": "stdout",
     "output_type": "stream",
     "text": [
      "Epoch 1/10\n",
      "2622/2622 [==============================] - 6s 2ms/step - loss: 1.0604 - crf_viterbi_accuracy: 0.7163\n",
      "Epoch 2/10\n",
      "2622/2622 [==============================] - 5s 2ms/step - loss: 0.6782 - crf_viterbi_accuracy: 0.8049\n",
      "Epoch 3/10\n",
      "2622/2622 [==============================] - 5s 2ms/step - loss: 0.6053 - crf_viterbi_accuracy: 0.8208\n",
      "Epoch 4/10\n",
      "2622/2622 [==============================] - 5s 2ms/step - loss: 0.5646 - crf_viterbi_accuracy: 0.8295\n",
      "Epoch 5/10\n",
      "2622/2622 [==============================] - 5s 2ms/step - loss: 0.5304 - crf_viterbi_accuracy: 0.8367\n",
      "Epoch 6/10\n",
      "2622/2622 [==============================] - 5s 2ms/step - loss: 0.4983 - crf_viterbi_accuracy: 0.8432\n",
      "Epoch 7/10\n",
      "2622/2622 [==============================] - 5s 2ms/step - loss: 0.4719 - crf_viterbi_accuracy: 0.8494\n",
      "Epoch 8/10\n",
      "2622/2622 [==============================] - 5s 2ms/step - loss: 0.4547 - crf_viterbi_accuracy: 0.8524\n",
      "Epoch 9/10\n",
      "2622/2622 [==============================] - 5s 2ms/step - loss: 0.4363 - crf_viterbi_accuracy: 0.8559\n",
      "Epoch 10/10\n",
      "2622/2622 [==============================] - 5s 2ms/step - loss: 0.4084 - crf_viterbi_accuracy: 0.8636\n"
     ]
    },
    {
     "data": {
      "text/plain": [
       "<keras.callbacks.History at 0x21762944828>"
      ]
     },
     "execution_count": 21,
     "metadata": {},
     "output_type": "execute_result"
    }
   ],
   "source": [
    "# 循环神经网络与条件随机场模型训练\n",
    "model.fit(train_X, train_y, batch_size=64, epochs=10)"
   ]
  },
  {
   "cell_type": "code",
   "execution_count": 22,
   "metadata": {},
   "outputs": [
    {
     "name": "stdout",
     "output_type": "stream",
     "text": [
      "2644/2644 [==============================] - 2s 734us/step\n"
     ]
    }
   ],
   "source": [
    "# 模型预测\n",
    "test_X, _ = test_data[:]\n",
    "preds = model.predict(test_X, batch_size=64, verbose=True)\n",
    "pred_docs = make_predictions(preds, test_data, sent_pad, docs, idx2ent)"
   ]
  },
  {
   "cell_type": "code",
   "execution_count": 23,
   "metadata": {},
   "outputs": [
    {
     "name": "stdout",
     "output_type": "stream",
     "text": [
      "f_score:  0.6710640346653828\n",
      "precision:  0.6514910722632514\n",
      "recall:  0.6918494986597836\n"
     ]
    }
   ],
   "source": [
    "# 输出评价指标\n",
    "f_score, precision, recall = Evaluator.f1_score(test_docs, pred_docs)\n",
    "print('f_score: ', f_score)\n",
    "print('precision: ', precision)\n",
    "print('recall: ', recall)"
   ]
  },
  {
   "cell_type": "code",
   "execution_count": 24,
   "metadata": {},
   "outputs": [],
   "source": [
    "# 测试样本展示\n",
    "sample_doc_id = list(pred_docs.keys())[3]\n",
    "# test_docs[sample_doc_id]"
   ]
  }
 ],
 "metadata": {
  "kernelspec": {
   "display_name": "Aliyun",
   "language": "python",
   "name": "python3"
  },
  "language_info": {
   "codemirror_mode": {
    "name": "ipython",
    "version": 3
   },
   "file_extension": ".py",
   "mimetype": "text/x-python",
   "name": "python",
   "nbconvert_exporter": "python",
   "pygments_lexer": "ipython3",
   "version": "3.6.13"
  }
 },
 "nbformat": 4,
 "nbformat_minor": 2
}
