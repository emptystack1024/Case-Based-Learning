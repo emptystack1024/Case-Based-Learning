{
 "cells": [
  {
   "cell_type": "code",
   "execution_count": 17,
   "metadata": {},
   "outputs": [],
   "source": [
    "# !pip install spacy -i https://pypi.tuna.tsinghua.edu.cn/simple\n",
    "# !pip install gensim -i https://pypi.tuna.tsinghua.edu.cn/simple\n",
    "# !pip install scikit-learn==0.24.1 -i https://pypi.tuna.tsinghua.edu.cn/simple\n",
    "# !pip install tensorflow==1.12.3 -i https://pypi.tuna.tsinghua.edu.cn/simple\n",
    "# !pip install keras==2.2.4 -i https://pypi.tuna.tsinghua.edu.cn/simple\n",
    "# !pip install cnradical==0.1.0 -i https://pypi.tuna.tsinghua.edu.cn/simple\n",
    "# !pip install jieba==0.42.1 -i https://pypi.tuna.tsinghua.edu.cn/simple\n",
    "# !pip install numpy==1.16.0 -i https://pypi.tuna.tsinghua.edu.cn/simple\n",
    "# !pip install pandas==0.25.3 -i https://pypi.tuna.tsinghua.edu.cn/simple\n",
    "# !pip install tqdm==4.39.0 -i https://pypi.tuna.tsinghua.edu.cn/simple\n",
    "# !pip install keras-self-attention==0.49.0 -i https://pypi.tuna.tsinghua.edu.cn/simple"
   ]
  },
  {
   "cell_type": "code",
   "execution_count": 18,
   "metadata": {},
   "outputs": [],
   "source": [
    "# 导入所需文件\n",
    "import numpy as np\n",
    "from sklearn.model_selection import ShuffleSplit\n",
    "from data_utils import ENTITIES, Documents, Dataset, SentenceExtractor, make_predictions\n",
    "from data_utils import Evaluator\n",
    "from gensim.models import Word2Vec"
   ]
  },
  {
   "cell_type": "code",
   "execution_count": 19,
   "metadata": {},
   "outputs": [],
   "source": [
    "# 数据文件读取\n",
    "data_dir = \"./data/train\"\n",
    "ent2idx = dict(zip(ENTITIES, range(1, len(ENTITIES) + 1)))\n",
    "idx2ent = dict([(v, k) for k, v in ent2idx.items()])"
   ]
  },
  {
   "cell_type": "code",
   "execution_count": 20,
   "metadata": {},
   "outputs": [],
   "source": [
    "# 训练集，测试集切分与打乱\n",
    "docs = Documents(data_dir=data_dir)\n",
    "rs = ShuffleSplit(n_splits=1, test_size=20, random_state=2018)\n",
    "train_doc_ids, test_doc_ids = next(rs.split(docs))\n",
    "train_docs, test_docs = docs[train_doc_ids], docs[test_doc_ids]"
   ]
  },
  {
   "cell_type": "code",
   "execution_count": 21,
   "metadata": {},
   "outputs": [],
   "source": [
    "# 模型参数赋值\n",
    "num_cates = max(ent2idx.values()) + 1\n",
    "sent_len = 64\n",
    "vocab_size = 3000\n",
    "emb_size = 100\n",
    "sent_pad = 10\n",
    "sent_extrator = SentenceExtractor(window_size=sent_len, pad_size=sent_pad)\n",
    "train_sents = sent_extrator(train_docs)\n",
    "test_sents = sent_extrator(test_docs)\n",
    "train_data = Dataset(train_sents, cate2idx=ent2idx)\n",
    "train_data.build_vocab_dict(vocab_size=vocab_size)\n",
    "test_data = Dataset(test_sents, word2idx=train_data.word2idx, cate2idx=ent2idx)\n",
    "vocab_size = len(train_data.word2idx)"
   ]
  },
  {
   "cell_type": "code",
   "execution_count": 22,
   "metadata": {},
   "outputs": [],
   "source": [
    "# 构建词嵌入模型\n",
    "w2v_train_sents = []\n",
    "for doc in docs:\n",
    "    w2v_train_sents.append(list(doc.text))\n",
    "w2v_model = Word2Vec(w2v_train_sents, vector_size=emb_size)\n",
    "w2v_embeddings = np.zeros((vocab_size, emb_size))\n",
    "for char, char_idx in train_data.word2idx.items():\n",
    "    if char in w2v_model.wv:\n",
    "        w2v_embeddings[char_idx] = w2v_model.wv[char]"
   ]
  },
  {
   "cell_type": "code",
   "execution_count": 23,
   "metadata": {},
   "outputs": [],
   "source": [
    "# 安装keras-contribute\n",
    "# git clone https://github.com/keras-team/keras-contrib.git\n",
    "# cd keras-contrib\n",
    "# pip install ."
   ]
  },
  {
   "cell_type": "code",
   "execution_count": 24,
   "metadata": {},
   "outputs": [],
   "source": [
    "# 构建概率图模型——条件随机场\n",
    "import keras\n",
    "from keras.layers import Input, Embedding\n",
    "from keras_contrib.layers import CRF\n",
    "from keras.models import Model\n",
    "def build_crf_model(num_cates, seq_len, vocab_size, model_opts=dict()):\n",
    "    opts = {\n",
    "        'emb_size': 256,\n",
    "        'emb_trainable': True,\n",
    "        'emb_matrix': None,\n",
    "        'optimizer': keras.optimizers.Adam()\n",
    "    }\n",
    "    opts.update(model_opts)\n",
    "\n",
    "    input_seq = Input(shape=(seq_len,), dtype='int32')\n",
    "    if opts.get('emb_matrix') is not None:\n",
    "        embedding = Embedding(vocab_size, opts['emb_size'], \n",
    "                              weights=[opts['emb_matrix']],\n",
    "                              trainable=opts['emb_trainable'])\n",
    "    else:\n",
    "        embedding = Embedding(vocab_size, opts['emb_size'])\n",
    "    x = embedding(input_seq)\n",
    "    crf = CRF(num_cates, sparse_target=True)\n",
    "    output = crf(x)\n",
    "\n",
    "    model = Model(input_seq, output)\n",
    "    model.compile(opts['optimizer'], loss=crf.loss_function, metrics=[crf.accuracy])\n",
    "    return model"
   ]
  },
  {
   "cell_type": "code",
   "execution_count": 25,
   "metadata": {},
   "outputs": [
    {
     "name": "stdout",
     "output_type": "stream",
     "text": [
      "_________________________________________________________________\n",
      "Layer (type)                 Output Shape              Param #   \n",
      "=================================================================\n",
      "input_2 (InputLayer)         (None, 84)                0         \n",
      "_________________________________________________________________\n",
      "embedding_2 (Embedding)      (None, 84, 100)           215400    \n",
      "_________________________________________________________________\n",
      "crf_2 (CRF)                  (None, 84, 16)            1904      \n",
      "=================================================================\n",
      "Total params: 217,304\n",
      "Trainable params: 1,904\n",
      "Non-trainable params: 215,400\n",
      "_________________________________________________________________\n"
     ]
    }
   ],
   "source": [
    "# CRF条件随机场实例化\n",
    "seq_len = sent_len + 2 * sent_pad\n",
    "model = build_crf_model(num_cates, seq_len=seq_len, vocab_size=vocab_size,model_opts={'emb_matrix': w2v_embeddings, 'emb_size': 100, 'emb_trainable': False})\n",
    "model.summary()"
   ]
  },
  {
   "cell_type": "code",
   "execution_count": 26,
   "metadata": {},
   "outputs": [
    {
     "name": "stdout",
     "output_type": "stream",
     "text": [
      "train_X.shape (2622, 84)\n",
      "train_y.shape (2622, 84, 1)\n"
     ]
    }
   ],
   "source": [
    "# 训练集，测试集形状\n",
    "train_X, train_y = train_data[:]\n",
    "print('train_X.shape', train_X.shape)\n",
    "print('train_y.shape', train_y.shape)"
   ]
  },
  {
   "cell_type": "code",
   "execution_count": 27,
   "metadata": {},
   "outputs": [
    {
     "name": "stdout",
     "output_type": "stream",
     "text": [
      "Epoch 1/10\n",
      "2622/2622 [==============================] - 3s 1ms/step - loss: 2.7736 - crf_viterbi_accuracy: 0.1657\n",
      "Epoch 2/10\n",
      "2622/2622 [==============================] - 3s 1ms/step - loss: 2.0349 - crf_viterbi_accuracy: 0.4036\n",
      "Epoch 3/10\n",
      "2622/2622 [==============================] - 3s 1ms/step - loss: 1.5740 - crf_viterbi_accuracy: 0.6281\n",
      "Epoch 4/10\n",
      "2622/2622 [==============================] - 3s 1ms/step - loss: 1.2690 - crf_viterbi_accuracy: 0.7227\n",
      "Epoch 5/10\n",
      "2622/2622 [==============================] - 3s 1ms/step - loss: 1.0676 - crf_viterbi_accuracy: 0.7445\n",
      "Epoch 6/10\n",
      "2622/2622 [==============================] - 3s 1ms/step - loss: 0.9350 - crf_viterbi_accuracy: 0.7626\n",
      "Epoch 7/10\n",
      "2622/2622 [==============================] - 3s 1ms/step - loss: 0.8458 - crf_viterbi_accuracy: 0.7724\n",
      "Epoch 8/10\n",
      "2622/2622 [==============================] - 3s 1ms/step - loss: 0.7824 - crf_viterbi_accuracy: 0.7764\n",
      "Epoch 9/10\n",
      "2622/2622 [==============================] - 3s 1ms/step - loss: 0.7352 - crf_viterbi_accuracy: 0.7799\n",
      "Epoch 10/10\n",
      "2622/2622 [==============================] - 3s 1ms/step - loss: 0.6983 - crf_viterbi_accuracy: 0.7810\n"
     ]
    },
    {
     "data": {
      "text/plain": [
       "<keras.callbacks.History at 0x176196954e0>"
      ]
     },
     "execution_count": 27,
     "metadata": {},
     "output_type": "execute_result"
    }
   ],
   "source": [
    "# 条件随机场模型训练\n",
    "model.fit(train_X, train_y, batch_size=64, epochs=10)"
   ]
  },
  {
   "cell_type": "code",
   "execution_count": 28,
   "metadata": {},
   "outputs": [
    {
     "name": "stdout",
     "output_type": "stream",
     "text": [
      "2644/2644 [==============================] - 1s 402us/step\n"
     ]
    }
   ],
   "source": [
    "# 模型预测\n",
    "test_X, _ = test_data[:]\n",
    "preds = model.predict(test_X, batch_size=64, verbose=True)\n",
    "pred_docs = make_predictions(preds, test_data, sent_pad, docs, idx2ent)"
   ]
  },
  {
   "cell_type": "code",
   "execution_count": 29,
   "metadata": {},
   "outputs": [
    {
     "name": "stdout",
     "output_type": "stream",
     "text": [
      "f_score:  0.44766793126534254\n",
      "precision:  0.5110177047509872\n",
      "recall:  0.3982924650054601\n"
     ]
    }
   ],
   "source": [
    "# 输出评价指标\n",
    "f_score, precision, recall = Evaluator.f1_score(test_docs, pred_docs)\n",
    "print('f_score: ', f_score)\n",
    "print('precision: ', precision)\n",
    "print('recall: ', recall)"
   ]
  },
  {
   "cell_type": "code",
   "execution_count": null,
   "metadata": {},
   "outputs": [],
   "source": [
    "# 测试样本展示\n",
    "sample_doc_id = list(pred_docs.keys())[3]\n",
    "test_docs[sample_doc_id]"
   ]
  },
  {
   "cell_type": "code",
   "execution_count": 32,
   "metadata": {},
   "outputs": [
    {
     "data": {
      "text/plain": [
       "array([ 0.19941245, -0.26504546,  0.15430012, -0.15829962, -0.10389724,\n",
       "        0.19118346, -0.11953872, -0.76132911, -0.26291174, -0.38873449,\n",
       "        0.01347194, -0.2559436 ,  0.15380643,  0.26135439, -0.25552344,\n",
       "        0.29242265,  0.09382474,  0.22370352,  0.02202507, -0.07514565,\n",
       "        0.82636875, -0.52704293,  0.01793255, -0.79269636,  0.35236117,\n",
       "       -0.02104079, -0.04055708, -0.18536669,  0.12498295, -0.03320423,\n",
       "       -0.1734913 ,  0.11356194,  0.38451925,  0.07955495,  0.49044865,\n",
       "       -0.40859443, -0.1679301 , -0.34706986, -0.37893501, -0.35810554,\n",
       "        0.13111269,  0.12016071,  0.08605853, -0.15480822,  0.22341111,\n",
       "       -0.37819988, -0.01085286,  0.05575052, -0.53235483, -0.24436882,\n",
       "        0.11880824,  0.01603009, -0.42114711,  0.04289829,  0.0078109 ,\n",
       "       -0.18823852, -0.0396415 , -0.12771091,  0.02638644, -0.2572166 ,\n",
       "       -0.15825768,  0.8555066 , -0.02068132, -0.23514207, -0.28015685,\n",
       "        0.65361744,  0.06349469,  0.34111962, -0.79231268,  0.38232407,\n",
       "       -0.01781703,  0.17663528,  0.18835948,  0.0810244 , -0.44065166,\n",
       "       -0.09785613,  0.01303485,  0.11950134, -0.01362737, -0.27334079,\n",
       "       -0.25983965,  0.07189992, -0.16846342,  0.11957989, -0.1988143 ,\n",
       "        0.06211103,  0.39650437,  0.39228696,  0.10364661,  0.02563247,\n",
       "        0.12096925,  0.04856257,  0.3866953 ,  0.09273072,  0.68595141,\n",
       "       -0.29804569,  0.09274358, -0.13168634,  0.26357338,  0.03882035])"
      ]
     },
     "execution_count": 32,
     "metadata": {},
     "output_type": "execute_result"
    }
   ],
   "source": [
    "w2v_embeddings[1]"
   ]
  },
  {
   "cell_type": "code",
   "execution_count": null,
   "metadata": {},
   "outputs": [],
   "source": []
  }
 ],
 "metadata": {
  "kernelspec": {
   "display_name": "Aliyun",
   "language": "python",
   "name": "python3"
  },
  "language_info": {
   "codemirror_mode": {
    "name": "ipython",
    "version": 3
   },
   "file_extension": ".py",
   "mimetype": "text/x-python",
   "name": "python",
   "nbconvert_exporter": "python",
   "pygments_lexer": "ipython3",
   "version": "3.6.13"
  }
 },
 "nbformat": 4,
 "nbformat_minor": 2
}
